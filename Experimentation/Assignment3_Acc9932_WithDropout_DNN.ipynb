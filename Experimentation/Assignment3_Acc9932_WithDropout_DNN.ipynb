{
  "nbformat": 4,
  "nbformat_minor": 0,
  "metadata": {
    "colab": {
      "name": "Assignment3_Acc9932_WithDropout_DNN.ipynb",
      "version": "0.3.2",
      "provenance": [],
      "collapsed_sections": [],
      "toc_visible": true
    },
    "kernelspec": {
      "name": "python3",
      "display_name": "Python 3"
    },
    "accelerator": "GPU"
  },
  "cells": [
    {
      "cell_type": "markdown",
      "metadata": {
        "id": "aNyZv-Ec52ot",
        "colab_type": "text"
      },
      "source": [
        "# **Import Libraries and modules**"
      ]
    },
    {
      "cell_type": "code",
      "metadata": {
        "id": "3m3w1Cw49Zkt",
        "colab_type": "code",
        "outputId": "3b3aa7cd-ae4d-490a-ab18-d2c17d3ac8fc",
        "colab": {
          "base_uri": "https://localhost:8080/",
          "height": 34
        }
      },
      "source": [
        "# https://keras.io/\n",
        "!pip install -q keras\n",
        "import keras"
      ],
      "execution_count": 0,
      "outputs": [
        {
          "output_type": "stream",
          "text": [
            "Using TensorFlow backend.\n"
          ],
          "name": "stderr"
        }
      ]
    },
    {
      "cell_type": "code",
      "metadata": {
        "id": "Eso6UHE080D4",
        "colab_type": "code",
        "colab": {}
      },
      "source": [
        "import numpy as np\n",
        "\n",
        "from keras.models import Sequential\n",
        "from keras.layers import Dense, Dropout, Activation, Flatten, Add\n",
        "from keras.layers import Convolution2D, MaxPooling2D\n",
        "from keras.utils import np_utils\n",
        "\n",
        "from keras.datasets import mnist"
      ],
      "execution_count": 0,
      "outputs": []
    },
    {
      "cell_type": "markdown",
      "metadata": {
        "id": "zByEi95J86RD",
        "colab_type": "text"
      },
      "source": [
        "### Load pre-shuffled MNIST data into train and test sets"
      ]
    },
    {
      "cell_type": "code",
      "metadata": {
        "id": "7eRM0QWN83PV",
        "colab_type": "code",
        "colab": {}
      },
      "source": [
        "(X_train, y_train), (X_test, y_test) = mnist.load_data()"
      ],
      "execution_count": 0,
      "outputs": []
    },
    {
      "cell_type": "code",
      "metadata": {
        "id": "4a4Be72j8-ZC",
        "colab_type": "code",
        "outputId": "0e32014b-ae9f-4890-b184-7a4ea0666754",
        "colab": {
          "base_uri": "https://localhost:8080/",
          "height": 303
        }
      },
      "source": [
        "print (X_train.shape)\n",
        "from matplotlib import pyplot as plt\n",
        "%matplotlib inline\n",
        "plt.imshow(X_train[0])"
      ],
      "execution_count": 0,
      "outputs": [
        {
          "output_type": "stream",
          "text": [
            "(60000, 28, 28)\n"
          ],
          "name": "stdout"
        },
        {
          "output_type": "execute_result",
          "data": {
            "text/plain": [
              "<matplotlib.image.AxesImage at 0x7f0c668e0b70>"
            ]
          },
          "metadata": {
            "tags": []
          },
          "execution_count": 4
        },
        {
          "output_type": "display_data",
          "data": {
            "image/png": "[encoded data removed]",
            "text/plain": [
              "<Figure size 432x288 with 1 Axes>"
            ]
          },
          "metadata": {
            "tags": []
          }
        }
      ]
    },
    {
      "cell_type": "code",
      "metadata": {
        "id": "dkmprriw9AnZ",
        "colab_type": "code",
        "colab": {}
      },
      "source": [
        "X_train = X_train.reshape(X_train.shape[0], 28, 28,1)\n",
        "X_test = X_test.reshape(X_test.shape[0], 28, 28,1)"
      ],
      "execution_count": 0,
      "outputs": []
    },
    {
      "cell_type": "code",
      "metadata": {
        "id": "X2m4YS4E9CRh",
        "colab_type": "code",
        "colab": {}
      },
      "source": [
        "X_train = X_train.astype('float32')\n",
        "X_test = X_test.astype('float32')\n",
        "X_train /= 255\n",
        "X_test /= 255"
      ],
      "execution_count": 0,
      "outputs": []
    },
    {
      "cell_type": "code",
      "metadata": {
        "id": "0Mn0vAYD9DvB",
        "colab_type": "code",
        "outputId": "6c54346f-9ef6-4ea8-bd4a-06c02de7030f",
        "colab": {
          "base_uri": "https://localhost:8080/",
          "height": 34
        }
      },
      "source": [
        "y_train[:10]"
      ],
      "execution_count": 0,
      "outputs": [
        {
          "output_type": "execute_result",
          "data": {
            "text/plain": [
              "array([5, 0, 4, 1, 9, 2, 1, 3, 1, 4], dtype=uint8)"
            ]
          },
          "metadata": {
            "tags": []
          },
          "execution_count": 7
        }
      ]
    },
    {
      "cell_type": "code",
      "metadata": {
        "id": "ZG8JiXR39FHC",
        "colab_type": "code",
        "colab": {}
      },
      "source": [
        "# Convert 1-dimensional class arrays to 10-dimensional class matrices\n",
        "Y_train = np_utils.to_categorical(y_train, 10)\n",
        "Y_test = np_utils.to_categorical(y_test, 10)"
      ],
      "execution_count": 0,
      "outputs": []
    },
    {
      "cell_type": "code",
      "metadata": {
        "id": "fYlFRvKS9HMB",
        "colab_type": "code",
        "outputId": "2b26656d-add0-4706-8fac-18758527860f",
        "colab": {
          "base_uri": "https://localhost:8080/",
          "height": 187
        }
      },
      "source": [
        "Y_train[:10]\n"
      ],
      "execution_count": 0,
      "outputs": [
        {
          "output_type": "execute_result",
          "data": {
            "text/plain": [
              "array([[0., 0., 0., 0., 0., 1., 0., 0., 0., 0.],\n",
              "       [1., 0., 0., 0., 0., 0., 0., 0., 0., 0.],\n",
              "       [0., 0., 0., 0., 1., 0., 0., 0., 0., 0.],\n",
              "       [0., 1., 0., 0., 0., 0., 0., 0., 0., 0.],\n",
              "       [0., 0., 0., 0., 0., 0., 0., 0., 0., 1.],\n",
              "       [0., 0., 1., 0., 0., 0., 0., 0., 0., 0.],\n",
              "       [0., 1., 0., 0., 0., 0., 0., 0., 0., 0.],\n",
              "       [0., 0., 0., 1., 0., 0., 0., 0., 0., 0.],\n",
              "       [0., 1., 0., 0., 0., 0., 0., 0., 0., 0.],\n",
              "       [0., 0., 0., 0., 1., 0., 0., 0., 0., 0.]], dtype=float32)"
            ]
          },
          "metadata": {
            "tags": []
          },
          "execution_count": 9
        }
      ]
    },
    {
      "cell_type": "code",
      "metadata": {
        "id": "osKqT73Q9JJB",
        "colab_type": "code",
        "outputId": "6eaa796c-3a65-4e2f-ba9c-68485aa99d7e",
        "colab": {
          "base_uri": "https://localhost:8080/",
          "height": 71
        }
      },
      "source": [
        "from keras.layers import Activation\n",
        "model = Sequential()\n",
        "\n",
        " \n",
        "model.add(Convolution2D(32, 3, 3, activation='relu', input_shape=(28,28,1)))\n",
        "#model.add(Dropout(0.3))\n",
        "model.add(Convolution2D(32, (3, 3), activation='relu'))\n",
        "model.add(MaxPooling2D(pool_size=(2, 2)))\n",
        "model.add(Convolution2D(10, 1, activation='relu'))\n",
        "#model.add(Dropout(0.2))\n",
        "model.add(Convolution2D(32, (3, 3), activation='relu'))\n",
        "model.add(MaxPooling2D(pool_size=(2, 2)))\n",
        "#model.add(Dropout(0.1))\n",
        "model.add(Convolution2D(10, 1))#, activation='relu'))\n",
        "model.add(Dropout(0.2))\n",
        "model.add(Convolution2D(32, (3, 3), activation='relu'))\n",
        "model.add(Dropout(0.2))\n",
        "model.add(Convolution2D(12, (3, 3), activation='relu'))\n",
        "#model.add(Dropout(0.1))\n",
        "#model.add(Convolution2D(10, 1, activation='relu'))\n",
        "model.add(Convolution2D(10, 1))\n",
        "model.add(Flatten())\n",
        "model.add(Activation('softmax'))"
      ],
      "execution_count": 0,
      "outputs": [
        {
          "output_type": "stream",
          "text": [
            "/usr/local/lib/python3.6/dist-packages/ipykernel_launcher.py:5: UserWarning: Update your `Conv2D` call to the Keras 2 API: `Conv2D(32, (3, 3), activation=\"relu\", input_shape=(28, 28, 1...)`\n",
            "  \"\"\"\n"
          ],
          "name": "stderr"
        }
      ]
    },
    {
      "cell_type": "code",
      "metadata": {
        "id": "TzdAYg1k9K7Z",
        "colab_type": "code",
        "outputId": "35c5dca3-267f-4069-c101-0ff7dd9c9dae",
        "colab": {
          "base_uri": "https://localhost:8080/",
          "height": 612
        }
      },
      "source": [
        "model.summary()"
      ],
      "execution_count": 0,
      "outputs": [
        {
          "output_type": "stream",
          "text": [
            "_________________________________________________________________\n",
            "Layer (type)                 Output Shape              Param #   \n",
            "=================================================================\n",
            "conv2d_57 (Conv2D)           (None, 26, 26, 32)        320       \n",
            "_________________________________________________________________\n",
            "conv2d_58 (Conv2D)           (None, 24, 24, 32)        9248      \n",
            "_________________________________________________________________\n",
            "max_pooling2d_15 (MaxPooling (None, 12, 12, 32)        0         \n",
            "_________________________________________________________________\n",
            "conv2d_59 (Conv2D)           (None, 12, 12, 10)        330       \n",
            "_________________________________________________________________\n",
            "conv2d_60 (Conv2D)           (None, 10, 10, 32)        2912      \n",
            "_________________________________________________________________\n",
            "max_pooling2d_16 (MaxPooling (None, 5, 5, 32)          0         \n",
            "_________________________________________________________________\n",
            "conv2d_61 (Conv2D)           (None, 5, 5, 10)          330       \n",
            "_________________________________________________________________\n",
            "dropout_9 (Dropout)          (None, 5, 5, 10)          0         \n",
            "_________________________________________________________________\n",
            "conv2d_62 (Conv2D)           (None, 3, 3, 32)          2912      \n",
            "_________________________________________________________________\n",
            "dropout_10 (Dropout)         (None, 3, 3, 32)          0         \n",
            "_________________________________________________________________\n",
            "conv2d_63 (Conv2D)           (None, 1, 1, 12)          3468      \n",
            "_________________________________________________________________\n",
            "conv2d_64 (Conv2D)           (None, 1, 1, 10)          130       \n",
            "_________________________________________________________________\n",
            "flatten_8 (Flatten)          (None, 10)                0         \n",
            "_________________________________________________________________\n",
            "activation_8 (Activation)    (None, 10)                0         \n",
            "=================================================================\n",
            "Total params: 19,650\n",
            "Trainable params: 19,650\n",
            "Non-trainable params: 0\n",
            "_________________________________________________________________\n"
          ],
          "name": "stdout"
        }
      ]
    },
    {
      "cell_type": "code",
      "metadata": {
        "id": "Zp6SuGrL9M3h",
        "colab_type": "code",
        "colab": {}
      },
      "source": [
        "model.compile(loss='categorical_crossentropy',\n",
        "             optimizer='adam',\n",
        "             metrics=['accuracy'])"
      ],
      "execution_count": 0,
      "outputs": []
    },
    {
      "cell_type": "code",
      "metadata": {
        "id": "4xWoKhPY9Of5",
        "colab_type": "code",
        "outputId": "28464571-e64e-4aed-f68a-9efa15b454ac",
        "colab": {
          "base_uri": "https://localhost:8080/",
          "height": 768
        }
      },
      "source": [
        "model.fit(X_train, Y_train, batch_size=32, nb_epoch=20, verbose=1)"
      ],
      "execution_count": 0,
      "outputs": [
        {
          "output_type": "stream",
          "text": [
            "/usr/local/lib/python3.6/dist-packages/ipykernel_launcher.py:1: UserWarning: The `nb_epoch` argument in `fit` has been renamed `epochs`.\n",
            "  \"\"\"Entry point for launching an IPython kernel.\n"
          ],
          "name": "stderr"
        },
        {
          "output_type": "stream",
          "text": [
            "Epoch 1/20\n",
            "60000/60000 [==============================] - 25s 413us/step - loss: 0.3108 - acc: 0.9014\n",
            "Epoch 2/20\n",
            "60000/60000 [==============================] - 23s 383us/step - loss: 0.0950 - acc: 0.9708\n",
            "Epoch 3/20\n",
            "60000/60000 [==============================] - 23s 390us/step - loss: 0.0706 - acc: 0.9783\n",
            "Epoch 4/20\n",
            "60000/60000 [==============================] - 23s 375us/step - loss: 0.0586 - acc: 0.9814\n",
            "Epoch 5/20\n",
            "60000/60000 [==============================] - 22s 373us/step - loss: 0.0532 - acc: 0.9837\n",
            "Epoch 6/20\n",
            "60000/60000 [==============================] - 23s 382us/step - loss: 0.0512 - acc: 0.9836\n",
            "Epoch 7/20\n",
            "60000/60000 [==============================] - 23s 391us/step - loss: 0.0443 - acc: 0.9859\n",
            "Epoch 8/20\n",
            "60000/60000 [==============================] - 23s 379us/step - loss: 0.0410 - acc: 0.9867\n",
            "Epoch 9/20\n",
            "60000/60000 [==============================] - 23s 376us/step - loss: 0.0410 - acc: 0.9869\n",
            "Epoch 10/20\n",
            "60000/60000 [==============================] - 24s 395us/step - loss: 0.0381 - acc: 0.9872\n",
            "Epoch 11/20\n",
            "60000/60000 [==============================] - 22s 372us/step - loss: 0.0369 - acc: 0.9890\n",
            "Epoch 12/20\n",
            "60000/60000 [==============================] - 22s 370us/step - loss: 0.0353 - acc: 0.9886\n",
            "Epoch 13/20\n",
            "60000/60000 [==============================] - 23s 387us/step - loss: 0.0338 - acc: 0.9895\n",
            "Epoch 14/20\n",
            "60000/60000 [==============================] - 23s 382us/step - loss: 0.0328 - acc: 0.9895\n",
            "Epoch 15/20\n",
            "60000/60000 [==============================] - 23s 388us/step - loss: 0.0318 - acc: 0.9897\n",
            "Epoch 16/20\n",
            "60000/60000 [==============================] - 16s 267us/step - loss: 0.0299 - acc: 0.9902\n",
            "Epoch 17/20\n",
            "60000/60000 [==============================] - 12s 205us/step - loss: 0.0304 - acc: 0.9903\n",
            "Epoch 18/20\n",
            "60000/60000 [==============================] - 14s 226us/step - loss: 0.0278 - acc: 0.9913\n",
            "Epoch 19/20\n",
            "60000/60000 [==============================] - 12s 206us/step - loss: 0.0291 - acc: 0.9905\n",
            "Epoch 20/20\n",
            "60000/60000 [==============================] - 12s 205us/step - loss: 0.0284 - acc: 0.9904\n"
          ],
          "name": "stdout"
        },
        {
          "output_type": "execute_result",
          "data": {
            "text/plain": [
              "<keras.callbacks.History at 0x7f0c1ef30cc0>"
            ]
          },
          "metadata": {
            "tags": []
          },
          "execution_count": 49
        }
      ]
    },
    {
      "cell_type": "code",
      "metadata": {
        "id": "AtsH-lLk-eLb",
        "colab_type": "code",
        "colab": {}
      },
      "source": [
        "score = model.evaluate(X_test, Y_test, verbose=0)"
      ],
      "execution_count": 0,
      "outputs": []
    },
    {
      "cell_type": "code",
      "metadata": {
        "id": "mkX8JMv79q9r",
        "colab_type": "code",
        "outputId": "264665df-0e55-43fb-85ef-0e73197cf153",
        "colab": {
          "base_uri": "https://localhost:8080/",
          "height": 34
        }
      },
      "source": [
        "print(score)"
      ],
      "execution_count": 0,
      "outputs": [
        {
          "output_type": "stream",
          "text": [
            "[0.02187914111134596, 0.9932]\n"
          ],
          "name": "stdout"
        }
      ]
    },
    {
      "cell_type": "code",
      "metadata": {
        "id": "OCWoJkwE9suh",
        "colab_type": "code",
        "colab": {}
      },
      "source": [
        "y_pred = model.predict(X_test)"
      ],
      "execution_count": 0,
      "outputs": []
    },
    {
      "cell_type": "code",
      "metadata": {
        "id": "Ym7iCFBm9uBs",
        "colab_type": "code",
        "outputId": "6b8c16a2-0019-47b8-fa00-bfc3573107d7",
        "colab": {
          "base_uri": "https://localhost:8080/",
          "height": 493
        }
      },
      "source": [
        "print(y_pred[:9])\n",
        "print(y_test[:9])"
      ],
      "execution_count": 0,
      "outputs": [
        {
          "output_type": "stream",
          "text": [
            "[[2.28390088e-13 4.34680243e-11 5.25798205e-09 1.33807532e-09\n",
            "  1.35694060e-12 9.92459804e-13 1.06392094e-17 1.00000000e+00\n",
            "  1.01598218e-11 8.02923328e-09]\n",
            " [2.64542848e-07 1.35012306e-06 9.99998331e-01 1.73477543e-09\n",
            "  7.11232668e-13 4.88673229e-14 1.83475701e-09 9.16727361e-10\n",
            "  4.08239276e-11 3.80437887e-16]\n",
            " [1.53349298e-08 9.99995232e-01 2.81996027e-08 1.45769521e-08\n",
            "  2.43800446e-06 5.18595130e-07 6.00888882e-07 1.23234440e-06\n",
            "  1.55956459e-09 6.96054769e-09]\n",
            " [9.99983788e-01 4.84947022e-12 1.62833977e-08 5.22199954e-08\n",
            "  7.00989711e-09 8.47040099e-07 1.24658736e-05 1.98159289e-09\n",
            "  2.31429453e-07 2.47489834e-06]\n",
            " [8.78825138e-12 1.30487763e-08 2.95094615e-09 1.20592094e-13\n",
            "  9.99998093e-01 2.35881106e-12 7.41697259e-11 2.56897241e-08\n",
            "  3.10823567e-09 1.90301796e-06]\n",
            " [2.27050434e-10 9.99995947e-01 2.09904161e-09 6.03299466e-10\n",
            "  3.18096636e-06 6.15008711e-09 2.31600819e-08 8.51523737e-07\n",
            "  1.15689416e-10 3.45198625e-09]\n",
            " [3.38460596e-13 1.38632083e-06 8.08498868e-09 8.05871082e-12\n",
            "  9.99940991e-01 4.16026727e-11 1.61420627e-12 1.38052437e-05\n",
            "  1.55989237e-05 2.82002420e-05]\n",
            " [4.01884002e-08 1.01440072e-07 5.54279723e-07 1.54373101e-08\n",
            "  2.93612160e-04 7.11474755e-08 1.55478581e-08 7.51101723e-08\n",
            "  7.74296041e-07 9.99704778e-01]\n",
            " [1.68831866e-06 2.17189573e-08 5.64949914e-07 1.17478157e-06\n",
            "  1.04298115e-09 9.98938382e-01 1.00367609e-03 2.35124631e-09\n",
            "  3.40044426e-05 2.05768974e-05]]\n",
            "[7 2 1 0 4 1 4 9 5]\n"
          ],
          "name": "stdout"
        }
      ]
    },
    {
      "cell_type": "code",
      "metadata": {
        "id": "CT--y98_dr2T",
        "colab_type": "code",
        "colab": {}
      },
      "source": [
        "layer_dict = dict([(layer.name, layer) for layer in model.layers])"
      ],
      "execution_count": 0,
      "outputs": []
    },
    {
      "cell_type": "code",
      "metadata": {
        "id": "cl8gyOw1nJxz",
        "colab_type": "code",
        "outputId": "71dbf9cb-ccfc-44d0-f9b5-8a4fe00f00eb",
        "colab": {
          "base_uri": "https://localhost:8080/",
          "height": 255
        }
      },
      "source": [
        "layer_dict"
      ],
      "execution_count": 0,
      "outputs": [
        {
          "output_type": "execute_result",
          "data": {
            "text/plain": [
              "{'activation_8': <keras.layers.core.Activation at 0x7f0c1ed0c6a0>,\n",
              " 'conv2d_57': <keras.layers.convolutional.Conv2D at 0x7f0c1eea0d30>,\n",
              " 'conv2d_58': <keras.layers.convolutional.Conv2D at 0x7f0c1eea0208>,\n",
              " 'conv2d_59': <keras.layers.convolutional.Conv2D at 0x7f0c1eeb2d30>,\n",
              " 'conv2d_60': <keras.layers.convolutional.Conv2D at 0x7f0c1eeb2b38>,\n",
              " 'conv2d_61': <keras.layers.convolutional.Conv2D at 0x7f0c1ef7a7b8>,\n",
              " 'conv2d_62': <keras.layers.convolutional.Conv2D at 0x7f0c1edda588>,\n",
              " 'conv2d_63': <keras.layers.convolutional.Conv2D at 0x7f0c1edf19b0>,\n",
              " 'conv2d_64': <keras.layers.convolutional.Conv2D at 0x7f0c1edf1668>,\n",
              " 'dropout_10': <keras.layers.core.Dropout at 0x7f0c1ee16080>,\n",
              " 'dropout_9': <keras.layers.core.Dropout at 0x7f0c1edc5f60>,\n",
              " 'flatten_8': <keras.layers.core.Flatten at 0x7f0c1edbcac8>,\n",
              " 'max_pooling2d_15': <keras.layers.pooling.MaxPooling2D at 0x7f0c1ee60198>,\n",
              " 'max_pooling2d_16': <keras.layers.pooling.MaxPooling2D at 0x7f0c1ee01dd8>}"
            ]
          },
          "metadata": {
            "tags": []
          },
          "execution_count": 55
        }
      ]
    },
    {
      "cell_type": "code",
      "metadata": {
        "id": "2GY4Upv4dsUR",
        "colab_type": "code",
        "outputId": "95544c48-d000-413d-de6e-803bc513889d",
        "colab": {
          "base_uri": "https://localhost:8080/",
          "height": 741
        }
      },
      "source": [
        "import numpy as np\n",
        "from matplotlib import pyplot as plt\n",
        "from keras import backend as K\n",
        "%matplotlib inline\n",
        "# util function to convert a tensor into a valid image\n",
        "def deprocess_image(x):\n",
        "    # normalize tensor: center on 0., ensure std is 0.1\n",
        "    x -= x.mean()\n",
        "    x /= (x.std() + 1e-5)\n",
        "    x *= 0.1\n",
        "\n",
        "    # clip to [0, 1]\n",
        "    x += 0.5\n",
        "    x = np.clip(x, 0, 1)\n",
        "\n",
        "    # convert to RGB array\n",
        "    x *= 255\n",
        "    #x = x.transpose((1, 2, 0))\n",
        "    x = np.clip(x, 0, 255).astype('uint8')\n",
        "    return x\n",
        "\n",
        "def vis_img_in_filter(img = np.array(X_train[2]).reshape((1, 28, 28, 1)).astype(np.float64), \n",
        "                      layer_name = 'conv2d_63'):\n",
        "    layer_output = layer_dict[layer_name].output\n",
        "    img_ascs = list()\n",
        "    for filter_index in range(layer_output.shape[3]):\n",
        "        # build a loss function that maximizes the activation\n",
        "        # of the nth filter of the layer considered\n",
        "        loss = K.mean(layer_output[:, :, :, filter_index])\n",
        "\n",
        "        # compute the gradient of the input picture wrt this loss\n",
        "        grads = K.gradients(loss, model.input)[0]\n",
        "\n",
        "        # normalization trick: we normalize the gradient\n",
        "        grads /= (K.sqrt(K.mean(K.square(grads))) + 1e-5)\n",
        "\n",
        "        # this function returns the loss and grads given the input picture\n",
        "        iterate = K.function([model.input], [loss, grads])\n",
        "\n",
        "        # step size for gradient ascent\n",
        "        step = 5.\n",
        "\n",
        "        img_asc = np.array(img)\n",
        "        # run gradient ascent for 20 steps\n",
        "        for i in range(20):\n",
        "            loss_value, grads_value = iterate([img_asc])\n",
        "            img_asc += grads_value * step\n",
        "\n",
        "        img_asc = img_asc[0]\n",
        "        img_ascs.append(deprocess_image(img_asc).reshape((28, 28)))\n",
        "        \n",
        "    if layer_output.shape[3] >= 35:\n",
        "        plot_x, plot_y = 6, 6\n",
        "    elif layer_output.shape[3] >= 23:\n",
        "        plot_x, plot_y = 4, 6\n",
        "    elif layer_output.shape[3] >= 11:\n",
        "        plot_x, plot_y = 2, 6\n",
        "    else:\n",
        "        plot_x, plot_y = 1, 2\n",
        "    fig, ax = plt.subplots(plot_x, plot_y, figsize = (12, 12))\n",
        "    ax[0, 0].imshow(img.reshape((28, 28)), cmap = 'gray')\n",
        "    ax[0, 0].set_title('Input image')\n",
        "    fig.suptitle('Input image and %s filters' % (layer_name,))\n",
        "    fig.tight_layout(pad = 0.3, rect = [0, 0, 0.9, 0.9])\n",
        "    for (x, y) in [(i, j) for i in range(plot_x) for j in range(plot_y)]:\n",
        "        if x == 0 and y == 0:\n",
        "            continue\n",
        "        ax[x, y].imshow(img_ascs[x * plot_y + y - 1], cmap = 'gray')\n",
        "        ax[x, y].set_title('filter %d' % (x * plot_y + y - 1))\n",
        "\n",
        "vis_img_in_filter()"
      ],
      "execution_count": 0,
      "outputs": [
        {
          "output_type": "display_data",
          "data": {
            "image/png": "[encoded data removed]",
            "text/plain": [
              "<Figure size 864x864 with 12 Axes>"
            ]
          },
          "metadata": {
            "tags": []
          }
        }
      ]
    },
    {
      "cell_type": "code",
      "metadata": {
        "id": "9tvptcn8dxvp",
        "colab_type": "code",
        "colab": {}
      },
      "source": [
        ""
      ],
      "execution_count": 0,
      "outputs": []
    }
  ]
}
